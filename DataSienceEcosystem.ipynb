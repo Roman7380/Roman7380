{
  "metadata": {
    "kernelspec": {
      "name": "python",
      "display_name": "Python (Pyodide)",
      "language": "python"
    },
    "language_info": {
      "codemirror_mode": {
        "name": "python",
        "version": 3
      },
      "file_extension": ".py",
      "mimetype": "text/x-python",
      "name": "python",
      "nbconvert_exporter": "python",
      "pygments_lexer": "ipython3",
      "version": "3.8"
    }
  },
  "nbformat_minor": 4,
  "nbformat": 4,
  "cells": [
    {
      "cell_type": "markdown",
      "source": "'Data Science Tools and Ecosystem'",
      "metadata": {}
    },
    {
      "cell_type": "raw",
      "source": "'In this notebook, Data Science Tools and Ecosystem are summarized.'",
      "metadata": {}
    },
    {
      "cell_type": "raw",
      "source": "'Some of the popular languages that Data Scientists use are:'\n\n'1. Python'\n'2. R'\n'3. SQL'\n'4. Julia'",
      "metadata": {}
    },
    {
      "cell_type": "raw",
      "source": "'Some of the commonly used libraries used by Data Scientists include:'\n\n'1. NumPy'\n'2. Pandas'\n'3. Scikit-learn'\n'4. Matplotlib'\n",
      "metadata": {}
    },
    {
      "cell_type": "raw",
      "source": "'| Data Science Tools |'\n'|--------------------|'\n'| Jupyter Notebook   |'\n'| RStudio            |'\n'| Google Colab       |'\n",
      "metadata": {}
    },
    {
      "cell_type": "raw",
      "source": "' Below are a few examples of evaluating arithmetic expressions in Python.'",
      "metadata": {}
    },
    {
      "cell_type": "code",
      "source": "'# This is a simple arithmetic expression to multiply then add integers.'\nresult = (3 * 4) + 5\nresult\n",
      "metadata": {
        "trusted": true
      },
      "outputs": [
        {
          "execution_count": 18,
          "output_type": "execute_result",
          "data": {
            "text/plain": "17"
          },
          "metadata": {}
        }
      ],
      "execution_count": 18
    },
    {
      "cell_type": "code",
      "source": "'# This will convert 200 minutes to hours by dividing by 60.'\nminutes = 200\nhours = minutes / 60\nhours\n",
      "metadata": {
        "trusted": true
      },
      "outputs": [
        {
          "execution_count": 19,
          "output_type": "execute_result",
          "data": {
            "text/plain": "3.3333333333333335"
          },
          "metadata": {}
        }
      ],
      "execution_count": 19
    },
    {
      "cell_type": "markdown",
      "source": "'Objectives:'\n\n'- List popular languages for Data Science'\n'- List commonly used libraries for Data Science'\n'- Show how to create tables in Markdown'\n'- Demonstrate arithmetic operations in Python'\n'- Convert units using Python'\n",
      "metadata": {}
    },
    {
      "cell_type": "code",
      "source": "' Author'\n\n'Tsybulenko Roman'\n",
      "metadata": {
        "trusted": true
      },
      "outputs": [
        {
          "execution_count": 5,
          "output_type": "execute_result",
          "data": {
            "text/plain": "'Tsybulenko Roman'"
          },
          "metadata": {}
        }
      ],
      "execution_count": 5
    },
    {
      "cell_type": "code",
      "source": "",
      "metadata": {
        "trusted": true
      },
      "outputs": [],
      "execution_count": null
    },
    {
      "cell_type": "code",
      "source": "",
      "metadata": {
        "trusted": true
      },
      "outputs": [],
      "execution_count": null
    }
  ]
}